{
  "nbformat": 4,
  "nbformat_minor": 0,
  "metadata": {
    "colab": {
      "name": "Untitled8.ipynb",
      "provenance": [],
      "collapsed_sections": [],
      "authorship_tag": "ABX9TyM4Yj++vGGD3zx4K/VOAn9V",
      "include_colab_link": true
    },
    "kernelspec": {
      "name": "python3",
      "display_name": "Python 3"
    },
    "language_info": {
      "name": "python"
    }
  },
  "cells": [
    {
      "cell_type": "markdown",
      "metadata": {
        "id": "view-in-github",
        "colab_type": "text"
      },
      "source": [
        "<a href=\"https://colab.research.google.com/github/Khaihuyennguyen/sodukusolver/blob/main/sodoku_Solver.ipynb\" target=\"_parent\"><img src=\"https://colab.research.google.com/assets/colab-badge.svg\" alt=\"Open In Colab\"/></a>"
      ]
    },
    {
      "cell_type": "markdown",
      "source": [
        "Senior Project 1: \n",
        "Building AI to solve my favourite game: soduku\n",
        "Python version"
      ],
      "metadata": {
        "id": "fCEiHcw2gYBP"
      }
    },
    {
      "cell_type": "markdown",
      "source": [
        "Sodoku rules explanation: \n",
        "Boxes: The whole table \n",
        "Unit: the square that whole from 1 to 9\n"
      ],
      "metadata": {
        "id": "-hu2OtyZijNa"
      }
    },
    {
      "cell_type": "markdown",
      "source": [
        "Building the table"
      ],
      "metadata": {
        "id": "INy5NUTDiLSt"
      }
    },
    {
      "cell_type": "code",
      "execution_count": 2,
      "metadata": {
        "id": "UDhg9eIQqwQx"
      },
      "outputs": [],
      "source": [
        "#Building the grids: There would be 9 rows with 9 columns A-I and 1-9 accordingly\n",
        "\n",
        "rows = 'ABCDEFGHI'\n",
        "columns = '123456789'\n",
        "\n",
        "#creating a fuction that could form a concatenations of a letter for example with \"ABC\" and \"123\" we would have \n",
        "# 9 combination: A1, A2, A3, B1, B2, B3, C1, C2, C3\n",
        "\n",
        "def cross(a,b):\n",
        "  return [i+j for i in a for j in b]\n",
        "\n"
      ]
    },
    {
      "cell_type": "code",
      "source": [
        "#testing code\n",
        "\n",
        "a = 'ABC'\n",
        "b = '123'\n",
        "\n",
        "c = cross (a,b)\n",
        "print(c)"
      ],
      "metadata": {
        "colab": {
          "base_uri": "https://localhost:8080/"
        },
        "id": "tkQiIfCCgWXc",
        "outputId": "ca5adb8f-2db5-4895-e4d3-7b4080ddf16c"
      },
      "execution_count": 3,
      "outputs": [
        {
          "output_type": "stream",
          "name": "stdout",
          "text": [
            "['A1', 'A2', 'A3', 'B1', 'B2', 'B3', 'C1', 'C2', 'C3']\n"
          ]
        }
      ]
    },
    {
      "cell_type": "markdown",
      "source": [
        "Now we can create the labels of the boxes, units:"
      ],
      "metadata": {
        "id": "gc3oWp3SiJw9"
      }
    },
    {
      "cell_type": "code",
      "source": [
        "boxes = cross(rows, columns)\n",
        "print(boxes)"
      ],
      "metadata": {
        "colab": {
          "base_uri": "https://localhost:8080/"
        },
        "id": "NLN_VG10iX5Y",
        "outputId": "6ee963ea-6ab5-4f0d-dde3-49e9435efe62"
      },
      "execution_count": 4,
      "outputs": [
        {
          "output_type": "stream",
          "name": "stdout",
          "text": [
            "['A1', 'A2', 'A3', 'A4', 'A5', 'A6', 'A7', 'A8', 'A9', 'B1', 'B2', 'B3', 'B4', 'B5', 'B6', 'B7', 'B8', 'B9', 'C1', 'C2', 'C3', 'C4', 'C5', 'C6', 'C7', 'C8', 'C9', 'D1', 'D2', 'D3', 'D4', 'D5', 'D6', 'D7', 'D8', 'D9', 'E1', 'E2', 'E3', 'E4', 'E5', 'E6', 'E7', 'E8', 'E9', 'F1', 'F2', 'F3', 'F4', 'F5', 'F6', 'F7', 'F8', 'F9', 'G1', 'G2', 'G3', 'G4', 'G5', 'G6', 'G7', 'G8', 'G9', 'H1', 'H2', 'H3', 'H4', 'H5', 'H6', 'H7', 'H8', 'H9', 'I1', 'I2', 'I3', 'I4', 'I5', 'I6', 'I7', 'I8', 'I9']\n"
          ]
        }
      ]
    },
    {
      "cell_type": "code",
      "source": [
        ""
      ],
      "metadata": {
        "id": "c7PecO8Ui2U4"
      },
      "execution_count": null,
      "outputs": []
    }
  ]
}